{
 "cells": [
  {
   "cell_type": "code",
   "execution_count": 1,
   "id": "fd427aba",
   "metadata": {},
   "outputs": [],
   "source": [
    "import os\n",
    "from PIL import Image\n",
    "import numpy as np\n",
    "import matplotlib.pyplot as plt\n",
    "import pandas as pd\n",
    "from sklearn.model_selection import train_test_split\n",
    "from tensorflow.keras import models,layers,Sequential\n",
    "import visualkeras as vk\n",
    "from tensorflow.keras.layers import Dense,Flatten,Conv2D,MaxPool2D\n",
    "from tensorflow.keras.models import load_model\n",
    "import cv2"
   ]
  },
  {
   "cell_type": "code",
   "execution_count": 2,
   "id": "9787aa6e",
   "metadata": {},
   "outputs": [
    {
     "name": "stdout",
     "output_type": "stream",
     "text": [
      "{0: 'A', 1: 'B', 2: 'C', 3: 'D', 4: 'E', 5: 'F', 6: 'G', 7: 'H', 8: 'I', 9: 'J', 10: 'K', 11: 'L', 12: 'M', 13: 'N', 14: 'O', 15: 'P', 16: 'Q', 17: 'R', 18: 'S', 19: 'T', 20: 'U', 21: 'V', 22: 'W', 23: 'X', 24: 'Y', 25: 'Z'}\n"
     ]
    }
   ],
   "source": [
    "path=r'C:\\Projects\\ML\\datasets\\alphabet fonts'\n",
    "classes={}\n",
    "count=0\n",
    "\n",
    "##############\n",
    "\n",
    "main_folder=os.listdir(path)\n",
    "\n",
    "for i in main_folder:\n",
    "    classes[count]=i\n",
    "    count+=1\n",
    "    \n",
    "print(classes)\n",
    "    "
   ]
  },
  {
   "cell_type": "code",
   "execution_count": 3,
   "id": "08abd029",
   "metadata": {
    "scrolled": false
   },
   "outputs": [
    {
     "name": "stdout",
     "output_type": "stream",
     "text": [
      "Created Database\n"
     ]
    }
   ],
   "source": [
    "\n",
    "\n",
    "image_array=[]\n",
    "alphabet=[]\n",
    "alphabet_array=[]\n",
    "\n",
    "for i in classes:\n",
    "    subfolder_path=path+'\\\\'+classes[i]\n",
    "    subfolder=os.listdir(subfolder_path)\n",
    "\n",
    "    for j in subfolder:\n",
    "        img=Image.open(subfolder_path+'\\\\'+j).convert('L')\n",
    "        img=np.array(img.resize((28,28)))\n",
    "        img=img.reshape(28,28,1)\n",
    "        img = (img - np.min(img)) / (np.max(img) - np.min(img))\n",
    "        image_array.append(img)\n",
    "        alphabet.append(classes[i])\n",
    "        alphabet_array.append(i)\n",
    "\n",
    "\n",
    "print(\"Created Database\")"
   ]
  },
  {
   "cell_type": "code",
   "execution_count": 4,
   "id": "67b6a956",
   "metadata": {},
   "outputs": [
    {
     "name": "stdout",
     "output_type": "stream",
     "text": [
      "(28, 28, 1)\n",
      "A\n"
     ]
    },
    {
     "data": {
      "image/png": "[encoded data removed]",
      "text/plain": [
       "<Figure size 432x288 with 1 Axes>"
      ]
     },
     "metadata": {
      "needs_background": "light"
     },
     "output_type": "display_data"
    }
   ],
   "source": [
    "plt.imshow(image_array[0],cmap='gray')\n",
    "print(image_array[0].shape)\n",
    "print(alphabet[0])"
   ]
  },
  {
   "cell_type": "code",
   "execution_count": 5,
   "id": "68cfc2ee",
   "metadata": {},
   "outputs": [
    {
     "data": {
      "text/plain": [
       "A    1016\n",
       "B    1016\n",
       "C    1016\n",
       "D    1016\n",
       "E    1016\n",
       "F    1016\n",
       "G    1016\n",
       "H    1016\n",
       "I    1016\n",
       "J    1016\n",
       "K    1016\n",
       "L    1016\n",
       "M    1016\n",
       "N    1016\n",
       "O    1016\n",
       "P    1016\n",
       "Q    1016\n",
       "R    1016\n",
       "S    1016\n",
       "T    1016\n",
       "U    1016\n",
       "V    1016\n",
       "W    1016\n",
       "X    1016\n",
       "Y    1016\n",
       "Z    1016\n",
       "dtype: int64"
      ]
     },
     "execution_count": 5,
     "metadata": {},
     "output_type": "execute_result"
    }
   ],
   "source": [
    "pd.Series(alphabet).value_counts().sort_index()\n"
   ]
  },
  {
   "cell_type": "code",
   "execution_count": 6,
   "id": "be8762c5",
   "metadata": {},
   "outputs": [
    {
     "name": "stdout",
     "output_type": "stream",
     "text": [
      "<class 'list'>\n",
      "<class 'numpy.ndarray'>\n"
     ]
    }
   ],
   "source": [
    "print(type(image_array))\n",
    "image_array=np.array(image_array)\n",
    "alphabet_array=np.array(alphabet_array)\n",
    "print(type(image_array))\n"
   ]
  },
  {
   "cell_type": "code",
   "execution_count": 7,
   "id": "5938179e",
   "metadata": {},
   "outputs": [
    {
     "name": "stdout",
     "output_type": "stream",
     "text": [
      "(26416, 28, 28, 1)\n",
      "(28, 28, 1)\n"
     ]
    }
   ],
   "source": [
    "print(image_array.shape)\n",
    "print(image_array[0].shape)"
   ]
  },
  {
   "cell_type": "code",
   "execution_count": 8,
   "id": "88e6e295",
   "metadata": {},
   "outputs": [
    {
     "name": "stdout",
     "output_type": "stream",
     "text": [
      "(21132, 28, 28, 1) (5284,)\n"
     ]
    }
   ],
   "source": [
    "x_train,x_test,y_train,y_test=train_test_split(image_array,alphabet_array,train_size=0.8,test_size=0.2,random_state=10)\n",
    "print(x_train.shape,y_test.shape)"
   ]
  },
  {
   "cell_type": "code",
   "execution_count": 9,
   "id": "ab439791",
   "metadata": {},
   "outputs": [],
   "source": [
    "model = Sequential()\n",
    "model.add(Conv2D(filters=32, kernel_size=(3, 3), activation='relu', input_shape=(28,28,1)))\n",
    "model.add(MaxPool2D(pool_size=(2, 2), strides=2))\n",
    "model.add(Conv2D(filters=64, kernel_size=(3, 3), activation='relu', padding = 'same'))\n",
    "model.add(MaxPool2D(pool_size=(2, 2), strides=2))\n",
    "model.add(Conv2D(filters=128, kernel_size=(3, 3), activation='relu', padding = 'valid'))\n",
    "model.add(MaxPool2D(pool_size=(2, 2), strides=2))\n",
    "model.add(Flatten())\n",
    "model.add(Dense(64,activation =\"relu\"))\n",
    "model.add(Dense(128,activation =\"relu\"))\n",
    "model.add(Dense(26,activation =\"softmax\"))"
   ]
  },
  {
   "cell_type": "code",
   "execution_count": 10,
   "id": "f375e61e",
   "metadata": {},
   "outputs": [
    {
     "name": "stdout",
     "output_type": "stream",
     "text": [
      "Model: \"sequential\"\n",
      "_________________________________________________________________\n",
      "Layer (type)                 Output Shape              Param #   \n",
      "=================================================================\n",
      "conv2d (Conv2D)              (None, 26, 26, 32)        320       \n",
      "_________________________________________________________________\n",
      "max_pooling2d (MaxPooling2D) (None, 13, 13, 32)        0         \n",
      "_________________________________________________________________\n",
      "conv2d_1 (Conv2D)            (None, 13, 13, 64)        18496     \n",
      "_________________________________________________________________\n",
      "max_pooling2d_1 (MaxPooling2 (None, 6, 6, 64)          0         \n",
      "_________________________________________________________________\n",
      "conv2d_2 (Conv2D)            (None, 4, 4, 128)         73856     \n",
      "_________________________________________________________________\n",
      "max_pooling2d_2 (MaxPooling2 (None, 2, 2, 128)         0         \n",
      "_________________________________________________________________\n",
      "flatten (Flatten)            (None, 512)               0         \n",
      "_________________________________________________________________\n",
      "dense (Dense)                (None, 64)                32832     \n",
      "_________________________________________________________________\n",
      "dense_1 (Dense)              (None, 128)               8320      \n",
      "_________________________________________________________________\n",
      "dense_2 (Dense)              (None, 26)                3354      \n",
      "=================================================================\n",
      "Total params: 137,178\n",
      "Trainable params: 137,178\n",
      "Non-trainable params: 0\n",
      "_________________________________________________________________\n"
     ]
    },
    {
     "data": {
      "image/png": "[encoded data removed]",
      "text/plain": [
       "<PIL.Image.Image image mode=RGBA size=362x139>"
      ]
     },
     "execution_count": 10,
     "metadata": {},
     "output_type": "execute_result"
    }
   ],
   "source": [
    "\n",
    "model.summary()\n",
    "vk.layered_view(model)"
   ]
  },
  {
   "cell_type": "code",
   "execution_count": 11,
   "id": "3295cfe1",
   "metadata": {},
   "outputs": [],
   "source": [
    "model.compile(loss=\"sparse_categorical_crossentropy\",optimizer=\"adam\",metrics=['accuracy'])"
   ]
  },
  {
   "cell_type": "code",
   "execution_count": 12,
   "id": "c5585982",
   "metadata": {},
   "outputs": [
    {
     "name": "stdout",
     "output_type": "stream",
     "text": [
      "Epoch 1/15\n",
      "463/463 [==============================] - 8s 11ms/step - loss: 1.8182 - accuracy: 0.4801 - val_loss: 0.3347 - val_accuracy: 0.9177\n",
      "Epoch 2/15\n",
      "463/463 [==============================] - 3s 7ms/step - loss: 0.2820 - accuracy: 0.9266 - val_loss: 0.2363 - val_accuracy: 0.9394\n",
      "Epoch 3/15\n",
      "463/463 [==============================] - 3s 7ms/step - loss: 0.1765 - accuracy: 0.9512 - val_loss: 0.1894 - val_accuracy: 0.9475\n",
      "Epoch 4/15\n",
      "463/463 [==============================] - 3s 7ms/step - loss: 0.1328 - accuracy: 0.9634 - val_loss: 0.1604 - val_accuracy: 0.9573\n",
      "Epoch 5/15\n",
      "463/463 [==============================] - 3s 7ms/step - loss: 0.0994 - accuracy: 0.9706 - val_loss: 0.1506 - val_accuracy: 0.9606\n",
      "Epoch 6/15\n",
      "463/463 [==============================] - 3s 7ms/step - loss: 0.0753 - accuracy: 0.9774 - val_loss: 0.1390 - val_accuracy: 0.9615\n",
      "Epoch 7/15\n",
      "463/463 [==============================] - 3s 7ms/step - loss: 0.0609 - accuracy: 0.9817 - val_loss: 0.1122 - val_accuracy: 0.9733\n",
      "Epoch 8/15\n",
      "463/463 [==============================] - 3s 7ms/step - loss: 0.0384 - accuracy: 0.9888 - val_loss: 0.1075 - val_accuracy: 0.9743\n",
      "Epoch 9/15\n",
      "463/463 [==============================] - 3s 7ms/step - loss: 0.0382 - accuracy: 0.9893 - val_loss: 0.1293 - val_accuracy: 0.9733\n",
      "Epoch 10/15\n",
      "463/463 [==============================] - 3s 7ms/step - loss: 0.0378 - accuracy: 0.9891 - val_loss: 0.1200 - val_accuracy: 0.9730\n",
      "Epoch 11/15\n",
      "463/463 [==============================] - 3s 7ms/step - loss: 0.0348 - accuracy: 0.9902 - val_loss: 0.1244 - val_accuracy: 0.9722\n",
      "Epoch 12/15\n",
      "463/463 [==============================] - 3s 7ms/step - loss: 0.0333 - accuracy: 0.9908 - val_loss: 0.0966 - val_accuracy: 0.9808\n",
      "Epoch 13/15\n",
      "463/463 [==============================] - 3s 7ms/step - loss: 0.0215 - accuracy: 0.9930 - val_loss: 0.1296 - val_accuracy: 0.9710\n",
      "Epoch 14/15\n",
      "463/463 [==============================] - 4s 8ms/step - loss: 0.0368 - accuracy: 0.9885 - val_loss: 0.1209 - val_accuracy: 0.9751\n",
      "Epoch 15/15\n",
      "463/463 [==============================] - 3s 7ms/step - loss: 0.0240 - accuracy: 0.9927 - val_loss: 0.1092 - val_accuracy: 0.9792\n"
     ]
    },
    {
     "data": {
      "text/plain": [
       "<tensorflow.python.keras.callbacks.History at 0x2151c64da60>"
      ]
     },
     "execution_count": 12,
     "metadata": {},
     "output_type": "execute_result"
    }
   ],
   "source": [
    "model.fit(x_train,y_train,epochs=15,validation_split=0.3)"
   ]
  },
  {
   "cell_type": "code",
   "execution_count": 13,
   "id": "c4bb4345",
   "metadata": {},
   "outputs": [
    {
     "name": "stdout",
     "output_type": "stream",
     "text": [
      "166/166 [==============================] - 1s 5ms/step - loss: 0.1092 - accuracy: 0.9769\n",
      "Loss : 0.10918530821800232\n",
      "Accuracy : 0.9769114255905151\n"
     ]
    }
   ],
   "source": [
    "test_loss,test_acc=model.evaluate(x_test,y_test)\n",
    "print(\"Loss :\",test_loss)\n",
    "print(\"Accuracy :\",test_acc)"
   ]
  },
  {
   "cell_type": "code",
   "execution_count": 14,
   "id": "e4bdffc3",
   "metadata": {},
   "outputs": [],
   "source": [
    "#saving model\n",
    "#model.save(r'large_model1.h5')\n",
    "\n",
    "#loading model\n",
    "#model = load_model('large_model.h5') \n",
    "\n",
    "#classes for character identification\n",
    "classes={0: 'A', 1: 'B', 2: 'C', 3: 'D', 4: 'E', 5: 'F', 6: 'G', 7: 'H', 8: 'I', 9: 'J', 10: 'K', 11: 'L', 12: 'M', 13: 'N', 14: 'O', 15: 'P', 16: 'Q', 17: 'R', 18: 'S', 19: 'T', 20: 'U', 21: 'V', 22: 'W', 23: 'X', 24: 'Y', 25: 'Z'}"
   ]
  },
  {
   "cell_type": "code",
   "execution_count": 15,
   "id": "1f12f0aa",
   "metadata": {},
   "outputs": [
    {
     "name": "stdout",
     "output_type": "stream",
     "text": [
      "D\n"
     ]
    }
   ],
   "source": [
    "img = cv2.imread(r'C:\\Users\\Sunny C\\Desktop\\test images\\test.png')\n",
    "img_copy = img.copy()\n",
    "img = cv2.cvtColor(img, cv2.COLOR_BGR2RGB)\n",
    "img = cv2.resize(img, (400,440))\n",
    "img_copy = cv2.GaussianBlur(img_copy, (7,7), 0)\n",
    "img_gray = cv2.cvtColor(img_copy, cv2.COLOR_BGR2GRAY)\n",
    "_, img_thresh = cv2.threshold(img_gray, 100, 255, cv2.THRESH_BINARY_INV)\n",
    "img_final = cv2.resize(img_thresh, (28,28))\n",
    "img_final =np.reshape(img_final, (1,28,28,1))\n",
    "img_pred = classes[np.argmax(model.predict(img_final))]\n",
    "print(img_pred)"
   ]
  },
  {
   "cell_type": "code",
   "execution_count": null,
   "id": "df41d4a6",
   "metadata": {},
   "outputs": [],
   "source": []
  }
 ],
 "metadata": {
  "kernelspec": {
   "display_name": "tf-gpu",
   "language": "python",
   "name": "tf-gpu"
  },
  "language_info": {
   "codemirror_mode": {
    "name": "ipython",
    "version": 3
   },
   "file_extension": ".py",
   "mimetype": "text/x-python",
   "name": "python",
   "nbconvert_exporter": "python",
   "pygments_lexer": "ipython3",
   "version": "3.8.0"
  }
 },
 "nbformat": 4,
 "nbformat_minor": 5
}
